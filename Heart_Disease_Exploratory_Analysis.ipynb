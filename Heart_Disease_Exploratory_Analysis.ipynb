{
  "nbformat": 4,
  "nbformat_minor": 0,
  "metadata": {
    "colab": {
      "name": "Heart_Disease_Exploratory_Analysis.ipynb",
      "version": "0.3.2",
      "provenance": [],
      "collapsed_sections": [],
      "include_colab_link": true
    },
    "kernelspec": {
      "name": "python3",
      "display_name": "Python 3"
    }
  },
  "cells": [
    {
      "cell_type": "markdown",
      "metadata": {
        "id": "view-in-github",
        "colab_type": "text"
      },
      "source": [
        "<a href=\"https://colab.research.google.com/github/Benji-Wagner/Heart-Disease-UCI/blob/master/Heart_Disease_Exploratory_Analysis.ipynb\" target=\"_parent\"><img src=\"https://colab.research.google.com/assets/colab-badge.svg\" alt=\"Open In Colab\"/></a>"
      ]
    },
    {
      "metadata": {
        "id": "6zNs-OY0qJk3",
        "colab_type": "text"
      },
      "cell_type": "markdown",
      "source": [
        "# Benji Wagner"
      ]
    },
    {
      "metadata": {
        "id": "xni5jfTBqMge",
        "colab_type": "text"
      },
      "cell_type": "markdown",
      "source": [
        "This Heart-Disease-UCI dataset seems relatively simple. I hope I can use this dataset as practice for some visualizations and evaluating a simple machine learning model."
      ]
    },
    {
      "metadata": {
        "id": "TKiPJXUJqevv",
        "colab_type": "text"
      },
      "cell_type": "markdown",
      "source": [
        "First, we need to import all the needed libraries"
      ]
    },
    {
      "metadata": {
        "id": "SdwEH8lFqH6d",
        "colab_type": "code",
        "colab": {}
      },
      "cell_type": "code",
      "source": [
        "import pandas as pd\n",
        "import numpy as np\n",
        "import matplotlib.pyplot as plt\n",
        "import seaborn as sns\n",
        "\n",
        "from sklearn.model_selection import train_test_split"
      ],
      "execution_count": 0,
      "outputs": []
    },
    {
      "metadata": {
        "id": "OSZ8nJNXrFqR",
        "colab_type": "text"
      },
      "cell_type": "markdown",
      "source": [
        "Now let's read in the data:"
      ]
    },
    {
      "metadata": {
        "id": "M0sPTQohrd9E",
        "colab_type": "code",
        "colab": {}
      },
      "cell_type": "code",
      "source": [
        "heart_data = pd.read_csv(\"/content/gdrive/My Drive/Repos/Heart-Disease-UCI/data/heart.csv\")"
      ],
      "execution_count": 0,
      "outputs": []
    },
    {
      "metadata": {
        "id": "_ovnGEQjr5mJ",
        "colab_type": "code",
        "outputId": "59063d07-be77-4fd1-df2e-1fd379280858",
        "colab": {
          "base_uri": "https://localhost:8080/",
          "height": 204
        }
      },
      "cell_type": "code",
      "source": [
        "heart_data.head()"
      ],
      "execution_count": 0,
      "outputs": [
        {
          "output_type": "execute_result",
          "data": {
            "text/html": [
              "<div>\n",
              "<style scoped>\n",
              "    .dataframe tbody tr th:only-of-type {\n",
              "        vertical-align: middle;\n",
              "    }\n",
              "\n",
              "    .dataframe tbody tr th {\n",
              "        vertical-align: top;\n",
              "    }\n",
              "\n",
              "    .dataframe thead th {\n",
              "        text-align: right;\n",
              "    }\n",
              "</style>\n",
              "<table border=\"1\" class=\"dataframe\">\n",
              "  <thead>\n",
              "    <tr style=\"text-align: right;\">\n",
              "      <th></th>\n",
              "      <th>age</th>\n",
              "      <th>sex</th>\n",
              "      <th>cp</th>\n",
              "      <th>trestbps</th>\n",
              "      <th>chol</th>\n",
              "      <th>fbs</th>\n",
              "      <th>restecg</th>\n",
              "      <th>thalach</th>\n",
              "      <th>exang</th>\n",
              "      <th>oldpeak</th>\n",
              "      <th>slope</th>\n",
              "      <th>ca</th>\n",
              "      <th>thal</th>\n",
              "      <th>target</th>\n",
              "    </tr>\n",
              "  </thead>\n",
              "  <tbody>\n",
              "    <tr>\n",
              "      <th>0</th>\n",
              "      <td>63</td>\n",
              "      <td>1</td>\n",
              "      <td>3</td>\n",
              "      <td>145</td>\n",
              "      <td>233</td>\n",
              "      <td>1</td>\n",
              "      <td>0</td>\n",
              "      <td>150</td>\n",
              "      <td>0</td>\n",
              "      <td>2.3</td>\n",
              "      <td>0</td>\n",
              "      <td>0</td>\n",
              "      <td>1</td>\n",
              "      <td>1</td>\n",
              "    </tr>\n",
              "    <tr>\n",
              "      <th>1</th>\n",
              "      <td>37</td>\n",
              "      <td>1</td>\n",
              "      <td>2</td>\n",
              "      <td>130</td>\n",
              "      <td>250</td>\n",
              "      <td>0</td>\n",
              "      <td>1</td>\n",
              "      <td>187</td>\n",
              "      <td>0</td>\n",
              "      <td>3.5</td>\n",
              "      <td>0</td>\n",
              "      <td>0</td>\n",
              "      <td>2</td>\n",
              "      <td>1</td>\n",
              "    </tr>\n",
              "    <tr>\n",
              "      <th>2</th>\n",
              "      <td>41</td>\n",
              "      <td>0</td>\n",
              "      <td>1</td>\n",
              "      <td>130</td>\n",
              "      <td>204</td>\n",
              "      <td>0</td>\n",
              "      <td>0</td>\n",
              "      <td>172</td>\n",
              "      <td>0</td>\n",
              "      <td>1.4</td>\n",
              "      <td>2</td>\n",
              "      <td>0</td>\n",
              "      <td>2</td>\n",
              "      <td>1</td>\n",
              "    </tr>\n",
              "    <tr>\n",
              "      <th>3</th>\n",
              "      <td>56</td>\n",
              "      <td>1</td>\n",
              "      <td>1</td>\n",
              "      <td>120</td>\n",
              "      <td>236</td>\n",
              "      <td>0</td>\n",
              "      <td>1</td>\n",
              "      <td>178</td>\n",
              "      <td>0</td>\n",
              "      <td>0.8</td>\n",
              "      <td>2</td>\n",
              "      <td>0</td>\n",
              "      <td>2</td>\n",
              "      <td>1</td>\n",
              "    </tr>\n",
              "    <tr>\n",
              "      <th>4</th>\n",
              "      <td>57</td>\n",
              "      <td>0</td>\n",
              "      <td>0</td>\n",
              "      <td>120</td>\n",
              "      <td>354</td>\n",
              "      <td>0</td>\n",
              "      <td>1</td>\n",
              "      <td>163</td>\n",
              "      <td>1</td>\n",
              "      <td>0.6</td>\n",
              "      <td>2</td>\n",
              "      <td>0</td>\n",
              "      <td>2</td>\n",
              "      <td>1</td>\n",
              "    </tr>\n",
              "  </tbody>\n",
              "</table>\n",
              "</div>"
            ],
            "text/plain": [
              "   age  sex  cp  trestbps  chol  fbs  restecg  thalach  exang  oldpeak  slope  \\\n",
              "0   63    1   3       145   233    1        0      150      0      2.3      0   \n",
              "1   37    1   2       130   250    0        1      187      0      3.5      0   \n",
              "2   41    0   1       130   204    0        0      172      0      1.4      2   \n",
              "3   56    1   1       120   236    0        1      178      0      0.8      2   \n",
              "4   57    0   0       120   354    0        1      163      1      0.6      2   \n",
              "\n",
              "   ca  thal  target  \n",
              "0   0     1       1  \n",
              "1   0     2       1  \n",
              "2   0     2       1  \n",
              "3   0     2       1  \n",
              "4   0     2       1  "
            ]
          },
          "metadata": {
            "tags": []
          },
          "execution_count": 12
        }
      ]
    },
    {
      "metadata": {
        "id": "6wOrhkJusJmg",
        "colab_type": "text"
      },
      "cell_type": "markdown",
      "source": [
        "Before we continue further, let's see what the variable descriptions are, taken from Kaggle:\n",
        "\n",
        "> 1. age \n",
        "> 2. sex \n",
        "> 3. chest pain type (4 values) \n",
        "> 4. resting blood pressure \n",
        "> 5. serum cholestoral in mg/dl \n",
        "> 6. fasting blood sugar > 120 mg/dl\n",
        "> 7. resting electrocardiographic results (values 0,1,2)\n",
        "> 8. maximum heart rate achieved \n",
        "> 9. exercise induced angina \n",
        "> 10. oldpeak = ST depression induced by exercise relative to rest \n",
        "> 11. the slope of the peak exercise ST segment \n",
        "> 12. number of major vessels (0-3) colored by flourosopy \n",
        "> 13. thal: 3 = normal; 6 = fixed defect; 7 = reversable defect"
      ]
    },
    {
      "metadata": {
        "id": "ZS0vInHWvEvw",
        "colab_type": "text"
      },
      "cell_type": "markdown",
      "source": [
        "Let's take a look at the datatypes"
      ]
    },
    {
      "metadata": {
        "id": "f6IAZzkQu_N9",
        "colab_type": "code",
        "outputId": "6b9326db-1574-49a9-808a-05836e682a97",
        "colab": {
          "base_uri": "https://localhost:8080/",
          "height": 272
        }
      },
      "cell_type": "code",
      "source": [
        "heart_data.dtypes"
      ],
      "execution_count": 0,
      "outputs": [
        {
          "output_type": "execute_result",
          "data": {
            "text/plain": [
              "age           int64\n",
              "sex           int64\n",
              "cp            int64\n",
              "trestbps      int64\n",
              "chol          int64\n",
              "fbs           int64\n",
              "restecg       int64\n",
              "thalach       int64\n",
              "exang         int64\n",
              "oldpeak     float64\n",
              "slope         int64\n",
              "ca            int64\n",
              "thal          int64\n",
              "target        int64\n",
              "dtype: object"
            ]
          },
          "metadata": {
            "tags": []
          },
          "execution_count": 30
        }
      ]
    },
    {
      "metadata": {
        "id": "M5FkywmvvI46",
        "colab_type": "text"
      },
      "cell_type": "markdown",
      "source": [
        "Hmm, some of those aren't right. Let's correct some of these."
      ]
    },
    {
      "metadata": {
        "colab_type": "code",
        "id": "s0lIZVXHwEk8",
        "colab": {}
      },
      "cell_type": "code",
      "source": [
        "heart_data['sex'] = heart_data['sex'].astype('object')\n",
        "heart_data['cp'] = heart_data['cp'].astype('object')\n",
        "heart_data['fbs'] = heart_data['fbs'].astype('object')\n",
        "heart_data['restecg'] = heart_data['restecg'].astype('object')\n",
        "heart_data['exang '] = heart_data['exang'].astype('object')\n",
        "heart_data['slope'] = heart_data['slope'].astype('object')\n",
        "heart_data['thal'] = heart_data['thal'].astype('object')"
      ],
      "execution_count": 0,
      "outputs": []
    },
    {
      "metadata": {
        "id": "evwieKaAwGjj",
        "colab_type": "code",
        "outputId": "0bc44150-5c2d-4e7f-cce9-7eee255dee4d",
        "colab": {
          "base_uri": "https://localhost:8080/",
          "height": 295
        }
      },
      "cell_type": "code",
      "source": [
        "sns.distplot(heart_data.age);\n",
        "plt.axvline(heart_data.age.mean(), 0, 1, color = 'red', label = 'Distribution Mean');\n",
        "plt.legend(loc = 'upper left');\n",
        "plt.title(\"Age Distribution\");"
      ],
      "execution_count": 0,
      "outputs": [
        {
          "output_type": "display_data",
          "data": {
            "image/png": "[encoded data removed]",
            "text/plain": [
              "<Figure size 432x288 with 1 Axes>"
            ]
          },
          "metadata": {
            "tags": []
          }
        }
      ]
    },
    {
      "metadata": {
        "id": "R3HMM7KFtUiW",
        "colab_type": "code",
        "outputId": "718ac250-db74-47b4-a83b-179dd30613e5",
        "colab": {
          "base_uri": "https://localhost:8080/",
          "height": 295
        }
      },
      "cell_type": "code",
      "source": [
        "sns.countplot(heart_data.sex);\n",
        "plt.title(\"Sex Distribution\");"
      ],
      "execution_count": 0,
      "outputs": [
        {
          "output_type": "display_data",
          "data": {
            "image/png": "[encoded data removed]",
            "text/plain": [
              "<Figure size 432x288 with 1 Axes>"
            ]
          },
          "metadata": {
            "tags": []
          }
        }
      ]
    },
    {
      "metadata": {
        "id": "JJsq07cvwhzX",
        "colab_type": "code",
        "colab": {}
      },
      "cell_type": "code",
      "source": [
        ""
      ],
      "execution_count": 0,
      "outputs": []
    }
  ]
}